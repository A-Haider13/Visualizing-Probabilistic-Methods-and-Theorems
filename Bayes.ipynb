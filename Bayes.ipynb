{
 "cells": [
  {
   "cell_type": "code",
   "execution_count": null,
   "metadata": {},
   "outputs": [],
   "source": [
    "'''\n",
    "I intend to make separate functions for each of the following:\n",
    "\n",
    "    1. Calculate the prior probability of a class\n",
    "    2. Calculate the likelihood of the features given the class\n",
    "    3. Calculate the posterior probability of the class\n",
    "\n",
    "In order to do that I need to understand the theoretical background of the Bayes theorem and what each of the above functions should do.\n",
    "'''"
   ]
  },
  {
   "cell_type": "code",
   "execution_count": null,
   "metadata": {},
   "outputs": [],
   "source": []
  }
 ],
 "metadata": {
  "language_info": {
   "name": "python"
  }
 },
 "nbformat": 4,
 "nbformat_minor": 2
}
