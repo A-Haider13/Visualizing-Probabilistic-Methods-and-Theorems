{
 "cells": [
  {
   "cell_type": "markdown",
   "metadata": {},
   "source": [
    "# Bayes Theorem\n",
    "I intend to make separate functions for each of the following:\n",
    "\n",
    "    1. Calculate the prior probability of a class\n",
    "    2. Calculate the likelihood of the features given the class\n",
    "    3. Calculate the posterior probability of the class\n",
    "\n",
    "In order to do that I need to understand the theoretical background of the Bayes theorem and what each of the above functions should do,"
   ]
  },
  {
   "cell_type": "code",
   "execution_count": 1,
   "metadata": {},
   "outputs": [],
   "source": [
    "import numpy as np\n",
    "import pandas as pd\n",
    "import matplotlib.pyplot as plt "
   ]
  },
  {
   "cell_type": "code",
   "execution_count": 4,
   "metadata": {},
   "outputs": [
    {
     "name": "stdout",
     "output_type": "stream",
     "text": [
      "prior: 0.3333333333333333\n",
      "likelihood: 0.00013548070246744223\n",
      "posterior: 4.516023415581408e-05\n"
     ]
    }
   ],
   "source": [
    "def prior(x):\n",
    "    return 1/3\n",
    "\n",
    "def likelihood(x, data):\n",
    "    return np.prod([1/3 if x == i else 2/3 for i in data])\n",
    "\n",
    "def posterior(x, data):\n",
    "    return likelihood(x, data) * prior(x)\n",
    "\n",
    "def main():\n",
    "    data = [1, 1, 0, 1, 1, 0, 1, 0, 1, 1]\n",
    "    x = 1\n",
    "    print(f'prior: {prior(x)}')\n",
    "    print(f'likelihood: {likelihood(x, data)}')\n",
    "    print(f'posterior: {posterior(x, data)}')\n",
    "\n",
    "if __name__ == '__main__':\n",
    "    main()"
   ]
  },
  {
   "cell_type": "markdown",
   "metadata": {},
   "source": [
    "# Bayesian Regression"
   ]
  }
 ],
 "metadata": {
  "kernelspec": {
   "display_name": "Python 3",
   "language": "python",
   "name": "python3"
  },
  "language_info": {
   "codemirror_mode": {
    "name": "ipython",
    "version": 3
   },
   "file_extension": ".py",
   "mimetype": "text/x-python",
   "name": "python",
   "nbconvert_exporter": "python",
   "pygments_lexer": "ipython3",
   "version": "3.11.9"
  }
 },
 "nbformat": 4,
 "nbformat_minor": 2
}
